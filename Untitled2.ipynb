{
  "nbformat": 4,
  "nbformat_minor": 0,
  "metadata": {
    "colab": {
      "name": "Untitled2.ipynb",
      "provenance": [],
      "authorship_tag": "ABX9TyMAKT2sUVGeWF0HOh12Valr",
      "include_colab_link": true
    },
    "kernelspec": {
      "name": "python3",
      "display_name": "Python 3"
    },
    "language_info": {
      "name": "python"
    }
  },
  "cells": [
    {
      "cell_type": "markdown",
      "metadata": {
        "id": "view-in-github",
        "colab_type": "text"
      },
      "source": [
        "<a href=\"https://colab.research.google.com/github/alexitiuba/alexitiuba/blob/main/Untitled2.ipynb\" target=\"_parent\"><img src=\"https://colab.research.google.com/assets/colab-badge.svg\" alt=\"Open In Colab\"/></a>"
      ]
    },
    {
      "cell_type": "code",
      "execution_count": 30,
      "metadata": {
        "colab": {
          "base_uri": "https://localhost:8080/"
        },
        "id": "e-CkvpkfeDaJ",
        "outputId": "f43d98e5-34f1-4e38-8250-d4f1ff940326"
      },
      "outputs": [
        {
          "output_type": "stream",
          "name": "stdout",
          "text": [
            "lista = [-3, 1, 4, 10, 15] \n",
            "\n",
            "lista_ordenada1 = [-3, 1, 4, 10, 15]\n",
            "lista_ordenada2 = None\n",
            "lista = [-3, 1, 4, 10, 15]\n"
          ]
        }
      ],
      "source": [
        "lista = [10, 4, 1, 15, -3]\n",
        "\n",
        "lista_ordenada1 = sorted(lista)\n",
        "lista_ordenada2 = lista.sort()\n",
        "\n",
        "print('lista =', lista, '\\n')\n",
        "print('lista_ordenada1 =', lista_ordenada1)\n",
        "print('lista_ordenada2 =', lista_ordenada2)\n",
        "print('lista =', lista)"
      ]
    }
  ]
}