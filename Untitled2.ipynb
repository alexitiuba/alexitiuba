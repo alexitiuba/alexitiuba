{
  "nbformat": 4,
  "nbformat_minor": 0,
  "metadata": {
    "colab": {
      "name": "Untitled2.ipynb",
      "provenance": [],
      "authorship_tag": "ABX9TyNwEsFUUhNYswnGwTPqpVjJ",
      "include_colab_link": true
    },
    "kernelspec": {
      "name": "python3",
      "display_name": "Python 3"
    },
    "language_info": {
      "name": "python"
    }
  },
  "cells": [
    {
      "cell_type": "markdown",
      "metadata": {
        "id": "view-in-github",
        "colab_type": "text"
      },
      "source": [
        "<a href=\"https://colab.research.google.com/github/alexitiuba/alexitiuba/blob/main/Untitled2.ipynb\" target=\"_parent\"><img src=\"https://colab.research.google.com/assets/colab-badge.svg\" alt=\"Open In Colab\"/></a>"
      ]
    },
    {
      "cell_type": "code",
      "execution_count": 29,
      "metadata": {
        "colab": {
          "base_uri": "https://localhost:8080/"
        },
        "id": "e-CkvpkfeDaJ",
        "outputId": "e44e02d6-1ad2-4152-fec0-7412953411d6"
      },
      "outputs": [
        {
          "output_type": "stream",
          "name": "stdout",
          "text": [
            "[1, 2, 3, 4, 5, 6, 7, 8, 9, 10, 11, 12, 13, 14, 15, 16, 17, 18, 19, 20, 21, 22, 23, 24, 25, 26, 27, 28, 29, 30, 31, 32, 33, 34, 35, 36, 37, 38, 39, 40, 41, 42, 43, 44, 45, 46, 47, 48, 49]\n",
            "\n",
            " True\n",
            "\n",
            " True\n"
          ]
        }
      ],
      "source": [
        "def executar_busca_binaria(lista, valor):\n",
        "  minimo = 0\n",
        "  maximo = len(lista) - 1\n",
        "  while minimo <= maximo:\n",
        "    # Encontra o elemento que divide a lista ao meio\n",
        "    meio = (minimo + maximo) // 2\n",
        "    # Verifica se o valor procurado está a esquerda ou direita do valor central\n",
        "    if valor < lista[meio]:\n",
        "      maximo = meio - 1\n",
        "    elif valor > lista[meio]:\n",
        "      minimo = meio + 1\n",
        "    else:\n",
        "      return True # Se o valor for encontrado para aqui\n",
        "  return False # Se chegar até aqui, significa que o valor não foi encontrado\n",
        "\n",
        "lista = list(range(1, 50))\n",
        "\n",
        "print(lista)\n",
        "\n",
        "print('\\n', executar_busca_binaria(lista=lista, valor=10))\n",
        "print('\\n', executar_busca_binaria(lista=lista, valor=20))"
      ]
    }
  ]
}