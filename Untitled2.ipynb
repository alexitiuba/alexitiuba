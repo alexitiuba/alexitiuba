{
  "nbformat": 4,
  "nbformat_minor": 0,
  "metadata": {
    "colab": {
      "name": "Untitled2.ipynb",
      "provenance": [],
      "authorship_tag": "ABX9TyP5tvVysD7+Bsc8HG7y2mYn",
      "include_colab_link": true
    },
    "kernelspec": {
      "name": "python3",
      "display_name": "Python 3"
    },
    "language_info": {
      "name": "python"
    }
  },
  "cells": [
    {
      "cell_type": "markdown",
      "metadata": {
        "id": "view-in-github",
        "colab_type": "text"
      },
      "source": [
        "<a href=\"https://colab.research.google.com/github/alexitiuba/alexitiuba/blob/main/Untitled2.ipynb\" target=\"_parent\"><img src=\"https://colab.research.google.com/assets/colab-badge.svg\" alt=\"Open In Colab\"/></a>"
      ]
    },
    {
      "cell_type": "code",
      "execution_count": 6,
      "metadata": {
        "colab": {
          "base_uri": "https://localhost:8080/"
        },
        "id": "e-CkvpkfeDaJ",
        "outputId": "39ddd760-3634-477b-d416-fd49145a20fc"
      },
      "outputs": [
        {
          "output_type": "stream",
          "name": "stdout",
          "text": [
            "1\n"
          ]
        }
      ],
      "source": [
        "# Exemplo 1 - criação de dicionario vazio, com atribuição posterior de chave e valor\n",
        "dici_1 = {}\n",
        "dici_1['nome'] = \"João\"\n",
        "dici_1['idade'] = 30\n",
        "\n",
        "# Exemplo 2 - criação de dicionario usando um par elementos na forma, chave:valor\n",
        "dici_2 = {'nome': 'João', 'idade': 30}\n",
        "\n",
        "# Exemplo 3 - criação de dicionario com uma lista de tuplas, cada tupla representa um par chave:valor\n",
        "dici_3 = dict([('nome', \"João\"), ('idade', 30)])\n",
        "\n",
        "# Exemplo 4 - criação de dicionario com a função built-in zip() e duas listas, uma com as chaves, outra com os valores\n",
        "dici_4 = dict(zip(['nome', 'idade'], [\"João\", 30]))\n",
        "\n",
        "print(dici_1 == dici_2 == dici_3 == dici_4) # Testando se as diferentes construções resultando em objetos iguais"
      ]
    }
  ]
}