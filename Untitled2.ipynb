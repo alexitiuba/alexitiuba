{
  "nbformat": 4,
  "nbformat_minor": 0,
  "metadata": {
    "colab": {
      "name": "Untitled2.ipynb",
      "provenance": [],
      "authorship_tag": "ABX9TyOyswHEwNrINcLAJuctS9Mb",
      "include_colab_link": true
    },
    "kernelspec": {
      "name": "python3",
      "display_name": "Python 3"
    },
    "language_info": {
      "name": "python"
    }
  },
  "cells": [
    {
      "cell_type": "markdown",
      "metadata": {
        "id": "view-in-github",
        "colab_type": "text"
      },
      "source": [
        "<a href=\"https://colab.research.google.com/github/alexitiuba/alexitiuba/blob/main/Untitled2.ipynb\" target=\"_parent\"><img src=\"https://colab.research.google.com/assets/colab-badge.svg\" alt=\"Open In Colab\"/></a>"
      ]
    },
    {
      "cell_type": "code",
      "execution_count": 7,
      "metadata": {
        "colab": {
          "base_uri": "https://localhost:8080/"
        },
        "id": "e-CkvpkfeDaJ",
        "outputId": "7b8c78e6-b920-481e-8f7f-f499d51b8658"
      },
      "outputs": [
        {
          "output_type": "stream",
          "name": "stdout",
          "text": [
            "<class 'set'> {'aeiou'}\n",
            "<class 'set'> {'u', 'o', 'e', 'i', 'a'}\n",
            "<class 'set'> {'u', 'o', 'e', 'i', 'a'}\n",
            "<class 'set'> {'u', 'o', 'e', 'i', 'a'}\n",
            "{'n', 'b', 'a'}\n"
          ]
        }
      ],
      "source": [
        "numeros = list(range(0, 21))\n",
        "\n",
        "numeros_pares = list(filter(lambda x: x % 2 == 0, numeros))\n",
        "\n",
        "print(numeros_pares)"
      ]
    }
  ]
}