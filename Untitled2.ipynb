{
  "nbformat": 4,
  "nbformat_minor": 0,
  "metadata": {
    "colab": {
      "name": "Untitled2.ipynb",
      "provenance": [],
      "authorship_tag": "ABX9TyOaGnY4tGd7vESy1RwnM9A0",
      "include_colab_link": true
    },
    "kernelspec": {
      "name": "python3",
      "display_name": "Python 3"
    },
    "language_info": {
      "name": "python"
    }
  },
  "cells": [
    {
      "cell_type": "markdown",
      "metadata": {
        "id": "view-in-github",
        "colab_type": "text"
      },
      "source": [
        "<a href=\"https://colab.research.google.com/github/alexitiuba/alexitiuba/blob/main/Untitled2.ipynb\" target=\"_parent\"><img src=\"https://colab.research.google.com/assets/colab-badge.svg\" alt=\"Open In Colab\"/></a>"
      ]
    },
    {
      "cell_type": "code",
      "execution_count": 31,
      "metadata": {
        "colab": {
          "base_uri": "https://localhost:8080/"
        },
        "id": "e-CkvpkfeDaJ",
        "outputId": "f40e2e6f-3bcc-4656-b549-940065c6ead9"
      },
      "outputs": [
        {
          "output_type": "stream",
          "name": "stdout",
          "text": [
            "[4, 7]\n"
          ]
        }
      ],
      "source": [
        "lista = [7, 4]\n",
        "\n",
        "if lista[0] > lista[1]:\n",
        "  aux = lista[1]\n",
        "  lista[1] = lista[0]\n",
        "  lista[0] = aux\n",
        "\n",
        "print(lista)"
      ]
    }
  ]
}