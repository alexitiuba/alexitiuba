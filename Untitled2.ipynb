{
  "nbformat": 4,
  "nbformat_minor": 0,
  "metadata": {
    "colab": {
      "name": "Untitled2.ipynb",
      "provenance": [],
      "authorship_tag": "ABX9TyN1xiXnLqRB+7GL66vyTqY5",
      "include_colab_link": true
    },
    "kernelspec": {
      "name": "python3",
      "display_name": "Python 3"
    },
    "language_info": {
      "name": "python"
    }
  },
  "cells": [
    {
      "cell_type": "markdown",
      "metadata": {
        "id": "view-in-github",
        "colab_type": "text"
      },
      "source": [
        "<a href=\"https://colab.research.google.com/github/alexitiuba/alexitiuba/blob/main/Untitled2.ipynb\" target=\"_parent\"><img src=\"https://colab.research.google.com/assets/colab-badge.svg\" alt=\"Open In Colab\"/></a>"
      ]
    },
    {
      "cell_type": "code",
      "execution_count": 5,
      "metadata": {
        "colab": {
          "base_uri": "https://localhost:8080/"
        },
        "id": "e-CkvpkfeDaJ",
        "outputId": "5dc9d859-4648-4968-f200-9885fbce4a02"
      },
      "outputs": [
        {
          "output_type": "stream",
          "name": "stdout",
          "text": [
            "[10, 19, 20, 22, 23, 37, 39, 40, 43, 56, 66, 67, 77, 82, 85, 87, 90, 91, 93, 96]\n"
          ]
        },
        {
          "output_type": "execute_result",
          "data": {
            "text/plain": [
              "True"
            ]
          },
          "metadata": {},
          "execution_count": 5
        }
      ],
      "source": [
        "def executar_busca_linear(lista, valor):\n",
        "  for elemento in lista:\n",
        "    if valor == elemento:\n",
        "      return True\n",
        "  return False\n",
        "\n",
        "import random\n",
        "\n",
        "lista = random.sample(range(100), 20)\n",
        "print(sorted(lista))\n",
        "executar_busca_linear(lista, 10)"
      ]
    }
  ]
}